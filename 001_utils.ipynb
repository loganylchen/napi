{
 "cells": [
  {
   "cell_type": "code",
   "execution_count": null,
   "metadata": {},
   "outputs": [],
   "source": [
    "#| default_exp utils"
   ]
  },
  {
   "cell_type": "markdown",
   "metadata": {},
   "source": [
    "# utils"
   ]
  },
  {
   "cell_type": "code",
   "execution_count": null,
   "metadata": {},
   "outputs": [],
   "source": [
    "#| export\n",
    "\n",
    "from ont_fast5_api.fast5_interface import get_fast5_file\n",
    "import numpy as np\n",
    "\n",
    "import logging\n",
    "from rich.logging import RichHandler\n"
   ]
  },
  {
   "cell_type": "code",
   "execution_count": null,
   "metadata": {},
   "outputs": [],
   "source": [
    "#| export\n",
    "\n",
    "from napi.worker import process_worker\n",
    "from napi.guppy import GuppyCalledRead, get_signal_of_seq_loc"
   ]
  },
  {
   "cell_type": "code",
   "execution_count": null,
   "metadata": {},
   "outputs": [],
   "source": [
    "# | export\n",
    "\n",
    "FORMAT = \"|%(message)s\"\n",
    "logging.basicConfig(\n",
    "    level=logging.WARNING, format=FORMAT, datefmt=\"[%Y-%m-%d,%X]\", handlers=[RichHandler(rich_tracebacks=True)]\n",
    ")\n",
    "log = logging.getLogger(__name__)\n",
    "log.setLevel(logging.INFO)\n"
   ]
  },
  {
   "cell_type": "code",
   "execution_count": null,
   "metadata": {},
   "outputs": [],
   "source": [
    "#| export\n",
    "\n",
    "REGION_SIZE =5 "
   ]
  },
  {
   "cell_type": "code",
   "execution_count": null,
   "metadata": {},
   "outputs": [],
   "source": [
    "#| export\n",
    "\n",
    "\n",
    "def _remove_extremism_normalization(signal):\n",
    "    return np.array(signal[(0<signal)&(signal<200)],dtype=np.double)"
   ]
  },
  {
   "cell_type": "code",
   "execution_count": null,
   "metadata": {},
   "outputs": [],
   "source": [
    "# | export\n",
    "\n",
    "\n",
    "def _load_signal(params):\n",
    "    log.debug(f'loading signal for {params[\"read_id\"]}')\n",
    "    fast5_file = params['fast5_file']\n",
    "    read_id = params['read_id']\n",
    "    with get_fast5_file(f'{fast5_file}') as fast5:\n",
    "        return read_id, GuppyCalledRead(fast5.get_read(read_id)).return_data()\n"
   ]
  },
  {
   "cell_type": "code",
   "execution_count": null,
   "metadata": {},
   "outputs": [],
   "source": [
    "#| export\n",
    "\n",
    "\n",
    "def loading_signal(read_list,fast5_dir,fast5_df,thread=2):\n",
    "    target_reads_df = fast5_df.loc[fast5_df['read_id'].isin(read_list),:]\n",
    "    fast5_files = target_reads_df['filename'].unique()\n",
    "    params_list = []\n",
    "    for fast5_file in fast5_files:\n",
    "        for read_id in list(target_reads_df.loc[target_reads_df['filename'] == fast5_file,'read_id']):\n",
    "            params_list.append({\n",
    "                'fast5_file': f'{fast5_dir}/{fast5_file}', 'read_id': read_id})\n",
    "    tmp_loading = process_worker(_load_signal,params_list,thread,desc='loading signal')\n",
    "    target_signals = {}\n",
    "    for i,j in tmp_loading:\n",
    "        target_signals[i]=j\n",
    "    return target_signals"
   ]
  },
  {
   "cell_type": "code",
   "execution_count": null,
   "metadata": {},
   "outputs": [],
   "source": [
    "# | export\n",
    "\n",
    "def retrieve_signal_by_loc(signals_d,locs_d):\n",
    "    loc_signal_d = dict()\n",
    "    for read_id in signals_d:\n",
    "        if read_id in locs_d:\n",
    "            log.debug(f'Retrieving locus signal of {read_id}')\n",
    "            loc_signal_d[read_id] = _remove_extremism_normalization(get_signal_of_seq_loc(\n",
    "                *signals_d[read_id], locs_d[read_id]-REGION_SIZE, locs_d[read_id]+REGION_SIZE))\n",
    "    log.debug(f'loc_signal_d: {len(loc_signal_d)}, signals_d: {len(signals_d)}, locs_d: {len(locs_d)}')\n",
    "    return loc_signal_d\n"
   ]
  },
  {
   "cell_type": "code",
   "execution_count": null,
   "metadata": {},
   "outputs": [],
   "source": []
  },
  {
   "cell_type": "code",
   "execution_count": null,
   "metadata": {},
   "outputs": [],
   "source": []
  }
 ],
 "metadata": {
  "kernelspec": {
   "display_name": "Python 3.8.13 ('napi')",
   "language": "python",
   "name": "python3"
  }
 },
 "nbformat": 4,
 "nbformat_minor": 2
}
