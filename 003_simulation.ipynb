{
 "cells": [
  {
   "cell_type": "code",
   "execution_count": 1,
   "metadata": {},
   "outputs": [],
   "source": [
    "#| default_exp simulation"
   ]
  },
  {
   "cell_type": "markdown",
   "metadata": {},
   "source": [
    "# simulation"
   ]
  },
  {
   "cell_type": "code",
   "execution_count": 2,
   "metadata": {},
   "outputs": [],
   "source": [
    "#| export\n",
    "\n",
    "\n",
    "import scrappy\n",
    "import numpy as np"
   ]
  },
  {
   "cell_type": "code",
   "execution_count": 3,
   "metadata": {},
   "outputs": [],
   "source": [
    "# | export\n",
    "\n",
    "def _squiggle_normalized(signals):\n",
    "    '''\n",
    "    :param signals:\n",
    "    :return:\n",
    "    '''\n",
    "    normalized_signals = []\n",
    "    for i in signals:\n",
    "        dwell = int(np.ceil(i[2]))\n",
    "        normalized_signals += [i[0]]*dwell\n",
    "\n",
    "    return normalized_signals\n",
    "\n",
    "\n",
    "def sequence_to_squiggle(sequence, model='squiggle_r94_rna'):\n",
    "    '''\n",
    "    :param sequence:\n",
    "    :param model:\n",
    "    :return:\n",
    "    '''\n",
    "\n",
    "    signals = scrappy.sequence_to_squiggle(\n",
    "        sequence,\n",
    "        model=model,\n",
    "        rescale=True).data(as_numpy=True, sloika=False)\n",
    "    return _squiggle_normalized(signals)\n"
   ]
  },
  {
   "cell_type": "code",
   "execution_count": null,
   "metadata": {},
   "outputs": [],
   "source": []
  }
 ],
 "metadata": {
  "kernelspec": {
   "display_name": "Python 3.8.13 ('napi')",
   "language": "python",
   "name": "python3"
  },
  "language_info": {
   "codemirror_mode": {
    "name": "ipython",
    "version": 3
   },
   "file_extension": ".py",
   "mimetype": "text/x-python",
   "name": "python",
   "nbconvert_exporter": "python",
   "pygments_lexer": "ipython3",
   "version": "3.8.13"
  },
  "orig_nbformat": 4,
  "vscode": {
   "interpreter": {
    "hash": "5f67cd72fb8bdd850b488b361a9e03c178ee3dd3d3ad96eafda1508542fce4e7"
   }
  }
 },
 "nbformat": 4,
 "nbformat_minor": 2
}
