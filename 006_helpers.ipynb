{
 "cells": [
  {
   "cell_type": "code",
   "execution_count": null,
   "metadata": {},
   "outputs": [],
   "source": [
    "#| default_exp helpers"
   ]
  },
  {
   "cell_type": "markdown",
   "metadata": {},
   "source": [
    "# helpers \n"
   ]
  },
  {
   "cell_type": "code",
   "execution_count": 1,
   "metadata": {},
   "outputs": [],
   "source": [
    "#| export\n",
    "\n",
    "from tombo.tombo_stats import PerReadStats, TomboStats\n",
    "from tombo.tombo_helper import intervalData\n",
    "\n",
    "import pandas as pd\n",
    "import numpy as np"
   ]
  },
  {
   "cell_type": "code",
   "execution_count": null,
   "metadata": {},
   "outputs": [],
   "source": [
    "# | export\n",
    "\n",
    "\n",
    "def tombo_read_stats(tombo_stats, contig, start, end,fill=False):\n",
    "    data = pd.DataFrame(\n",
    "        PerReadStats(tombo_stats).get_region_per_read_stats(\n",
    "            intervalData(chrm=contig, start=start, end=end, strand='+'))).pivot(\n",
    "                index='read_id', columns=['pos', ], values='stat')\n",
    "    \n",
    "    data.columns = data.columns.astype(int)\n",
    "    data.columns = [i+1 for i in data.columns]\n",
    "    if fill:\n",
    "        data = data.reindex(range(start+1, end+1), axis=1)\n",
    "    data = -np.log(data)\n",
    "    return data\n"
   ]
  },
  {
   "cell_type": "code",
   "execution_count": null,
   "metadata": {},
   "outputs": [],
   "source": [
    "#| export\n",
    "\n",
    "def baleen_read_stats(baleen_stats, contig, start, end, stat=None,fill=False):\n",
    "    data = pd.read_csv(baleen_stats, index_col=0)\n",
    "    if data.max().max() > 1:\n",
    "        data = data/5\n",
    "    data = data.rolling(3, axis=1, center=True).sum()/3\n",
    "    data.columns = data.columns.astype(int)\n",
    "    if fill:\n",
    "        data = data.reindex(range(start+1, end+1), axis=1,fill_value=None)\n",
    "    # else:\n",
    "    #     data = data.reindex(data.columns, axis=1)\n",
    "    return data"
   ]
  },
  {
   "cell_type": "code",
   "execution_count": null,
   "metadata": {},
   "outputs": [],
   "source": [
    "#| export \n",
    "\n",
    "# mod_list = [0,0,1,0.5,0.6,0.6,...] representing the posibility of modification for each read on the locus\n",
    "def _modtect(mod_list):\n",
    "    mod_n = (mod_list > 0.5).sum()\n",
    "    total = len(mod_list)\n",
    "    f = mod_n/total\n",
    "    lmf = 1\n",
    "    lm0 = 1\n",
    "    for i in mod_list:\n",
    "        lmf *= _posibility(i,f)\n",
    "        lm0 *= _posibility(i,0)\n",
    "    return np.log10(lmf/lm0)\n",
    "\n",
    "\n",
    "def _posibility(mod_p,f):\n",
    "    return f*mod_p + (1-f)*(1-mod_p)"
   ]
  },
  {
   "cell_type": "code",
   "execution_count": null,
   "metadata": {},
   "outputs": [],
   "source": [
    "#| export\n",
    "\n",
    "def _check_baleen(baleen_stats, contig, start, end,fill=False):\n",
    "    if isinstance(baleen_stats, str):\n",
    "        baleen_stats = baleen_read_stats(baleen_stats, contig, start, end,fill=False)\n",
    "    return baleen_stats\n",
    "\n",
    "\n",
    "def baleen_transcript_stats(baleen_stats, contig, start, end, window=2,fill=False, **kwargs):\n",
    "    baleen_stats = _check_baleen(baleen_stats, contig, start, end,fill)\n",
    "    baleen_stats[baleen_stats < 0.2] = -0.1\n",
    "    data = pd.DataFrame(baleen_stats.rolling(window, axis=1, center=True).sum(\n",
    "    ).fillna(0).sum(axis=0, skipna=True), columns=['stat'])\n",
    "    data['pos'] = data.index.astype(int)\n",
    "    return data\n",
    "\n",
    "\n",
    "def baleen_transcript_modtect_stats(baleen_stats, contig, start, end,):\n",
    "    baleen_stats = _check_baleen(baleen_stats, contig, start, end)\n",
    "    data = pd.DataFrame(baleen_stats.apply(_modtect, axis=0), columns=['stat'])\n",
    "    return data\n"
   ]
  },
  {
   "cell_type": "code",
   "execution_count": null,
   "metadata": {},
   "outputs": [],
   "source": [
    "#| export\n",
    "\n",
    "def tombo_transcript_stats(tombo_stats, contig, start, end, stat=None,fill=False):\n",
    "    ts = TomboStats(tombo_stats)\n",
    "    if ts.is_model_stats:\n",
    "        data = pd.DataFrame(\n",
    "            ts.get_reg_stats(contig, '+', start, end)).melt(\n",
    "                id_vars='pos', value_vars='frac', var_name='type',value_name='stat')\n",
    "    else:\n",
    "        data = pd.DataFrame(ts.get_reg_stats(contig, '+', start, end)) \n",
    "    data['stat'] += 0.001\n",
    "    data['stat'] = -np.log10(data['stat'])\n",
    "    data['pos'] = data['pos'] + 1\n",
    "    if fill:\n",
    "        data.index = data['pos']\n",
    "        data = data.reindex(range(start+1, end+1), axis=0, fill_value=0)\n",
    "        data['pos'] = data.index.astype(int)\n",
    "    return data\n",
    "\n",
    "\n"
   ]
  },
  {
   "cell_type": "code",
   "execution_count": null,
   "metadata": {},
   "outputs": [],
   "source": [
    "#| export\n",
    "\n",
    "def xpore_transcript_stats(xpore_stats, contig, start, end, stat=None,fill=False):\n",
    "    if stat == 'pvalue':\n",
    "        data = pd.read_csv(xpore_stats).iloc[:, [0, 1, 4]]\n",
    "        # if I used np.log1p, I may encounter FloatingPointError: underflow encountered in log1p\n",
    "        # when I check the data, I found that the pvalue is very near to 0, 1.22e-300 something like that.\n",
    "        data.iloc[:, 2] += 0.001\n",
    "        data.iloc[:, 2] = -np.log(data.iloc[:, 2])\n",
    "    else:\n",
    "        data = pd.read_csv(xpore_stats).iloc[:, [0, 1, 5]]\n",
    "    select = (data['id'] == contig) & (\n",
    "        data['position'] <= end) & (data['position'] >= start)\n",
    "    data = data.loc[select,:]\n",
    "    data.columns = ['contig', 'pos', 'stat']\n",
    "    data['pos'] = data['pos'] + 1\n",
    "    if fill:\n",
    "        data.index = data['pos']\n",
    "        data = data.reindex(range(start+1, end+1), axis=0,fill_value=0)\n",
    "        data['pos'] = data.index.astype(int)\n",
    "    return data\n"
   ]
  },
  {
   "cell_type": "code",
   "execution_count": null,
   "metadata": {},
   "outputs": [],
   "source": []
  }
 ],
 "metadata": {
  "kernelspec": {
   "display_name": "pybaleen-paper",
   "language": "python",
   "name": "python3"
  },
  "language_info": {
   "codemirror_mode": {
    "name": "ipython",
    "version": 3
   },
   "file_extension": ".py",
   "mimetype": "text/x-python",
   "name": "python",
   "nbconvert_exporter": "python",
   "pygments_lexer": "ipython3",
   "version": "3.8.13"
  },
  "vscode": {
   "interpreter": {
    "hash": "a88e1107b9d0a42f2bdaf7e45579c95cd72d35dad9924213d9e7984e7869a5bb"
   }
  }
 },
 "nbformat": 4,
 "nbformat_minor": 2
}
