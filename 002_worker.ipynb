{
 "cells": [
  {
   "cell_type": "code",
   "execution_count": null,
   "metadata": {},
   "outputs": [],
   "source": [
    "#| default_exp worker"
   ]
  },
  {
   "cell_type": "markdown",
   "metadata": {},
   "source": [
    "# worker"
   ]
  },
  {
   "cell_type": "code",
   "execution_count": null,
   "metadata": {},
   "outputs": [],
   "source": [
    "#| export\n",
    "\n",
    "from concurrent.futures import ProcessPoolExecutor\n",
    "from rich.progress import track"
   ]
  },
  {
   "cell_type": "code",
   "execution_count": null,
   "metadata": {},
   "outputs": [],
   "source": [
    "#| export\n",
    "\n",
    "def process_worker(func, args, n_workers=1,desc=None):\n",
    "    \"\"\"\n",
    "    Process worker\n",
    "    \"\"\"\n",
    "    with ProcessPoolExecutor(n_workers) as executor:\n",
    "        if None is desc:\n",
    "            return executor.map(func, args)\n",
    "        else:\n",
    "            return list(track(executor.map(func, args), total=len(args), description=desc))\n",
    "        "
   ]
  }
 ],
 "metadata": {
  "kernelspec": {
   "display_name": "Python 3.8.13 ('napi')",
   "language": "python",
   "name": "python3"
  }
 },
 "nbformat": 4,
 "nbformat_minor": 2
}
